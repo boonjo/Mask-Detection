{
 "cells": [
  {
   "cell_type": "markdown",
   "metadata": {},
   "source": [
    "# Detecting Face Masks in Videos"
   ]
  },
  {
   "cell_type": "markdown",
   "metadata": {},
   "source": [
    "## Import Modules"
   ]
  },
  {
   "cell_type": "code",
   "execution_count": null,
   "metadata": {},
   "outputs": [],
   "source": [
    "# Use Tensorflow 2+\n",
    "from tensorflow.keras.applications.mobilenet_v2 import preprocess_input\n",
    "from tensorflow.keras.models import load_model\n",
    "import numpy as np\n",
    "import cv2\n",
    "import matplotlib.pyplot as plt\n",
    "import os"
   ]
  },
  {
   "cell_type": "markdown",
   "metadata": {},
   "source": [
    "## Load Models"
   ]
  },
  {
   "cell_type": "code",
   "execution_count": null,
   "metadata": {},
   "outputs": [],
   "source": [
    "facenet = cv2.dnn.readNet('models/deploy.prototxt', 'models/res10_300x300_ssd_iter_140000.caffemodel')\n",
    "model = load_model('models/mask_detector.model')"
   ]
  },
  {
   "cell_type": "markdown",
   "metadata": {},
   "source": [
    "## Load the Video"
   ]
  },
  {
   "cell_type": "code",
   "execution_count": null,
   "metadata": {},
   "outputs": [],
   "source": [
    "video = cv2.VideoCapture('imgs/01.mp4')\n",
    "ret, img = video.read()"
   ]
  },
  {
   "cell_type": "markdown",
   "metadata": {},
   "source": [
    "## Preparation for Face Detection of Video"
   ]
  },
  {
   "cell_type": "code",
   "execution_count": null,
   "metadata": {},
   "outputs": [],
   "source": [
    "fourcc = cv2.VideoWriter_fourcc('m', 'p', '4', 'v')\n",
    "out = cv2.VideoWriter('output.mp4', fourcc, video.get(cv2.CAP_PROP_FPS), (img.shape[1], img.shape[0]))"
   ]
  },
  {
   "cell_type": "markdown",
   "metadata": {},
   "source": [
    "## Detecting Face Masks in Video"
   ]
  },
  {
   "cell_type": "code",
   "execution_count": null,
   "metadata": {},
   "outputs": [],
   "source": [
    "while video.isOpened():\n",
    "    ret, img = video.read()\n",
    "    if not ret:\n",
    "        break\n",
    "    \n",
    "    h, w = img.shape[:2]\n",
    "    \n",
    "    blob = cv2.dnn.blobFromImage(img, 1.0, (300, 300), (104.0, 177.0, 123.0))\n",
    "    facenet.setInput(blob)\n",
    "    dets = facenet.forward()\n",
    "    \n",
    "    result_img = img.copy()\n",
    "    \n",
    "    for i in range(dets.shape[2]):\n",
    "        confidence = dets[0, 0, i, 2]\n",
    "        if confidence > 0.5:\n",
    "            \n",
    "            x1 = int(dets[0, 0, i, 3] * w)\n",
    "            y1 = int(dets[0, 0, i, 4] * h)\n",
    "            x2 = int(dets[0, 0, i, 5] * w)\n",
    "            y2 = int(dets[0, 0, i, 6] * h)\n",
    "            \n",
    "            face = img[y1:y2, x1:x2]\n",
    "            \n",
    "            face_mask = cv2.resize(face, (224, 224))\n",
    "            face_mask = cv2.cvtColor(face_mask, cv2.COLOR_BGR2RGB)\n",
    "            face_mask = preprocess_input(face_mask)\n",
    "            face_mask = np.expand_dims(face_mask, axis=0)\n",
    "            \n",
    "            mask, nomask = model.predict(face_mask).squeeze()\n",
    "            \n",
    "            if mask > nomask:\n",
    "                color = (0, 255, 0)\n",
    "                label = 'Mask %d%%' % (mask * 100)\n",
    "            else:\n",
    "                color = (0, 0, 255)\n",
    "                label = 'No Mask %d%%' % (nomask * 100)\n",
    "            \n",
    "            cv2.rectangle(result_img, (x1, y1), (x2, y2), color, 2)\n",
    "            cv2.putText(result_img, label, (x1, y1 - 10), cv2.FONT_HERSHEY_SIMPLEX, 0.5, color, 2)\n",
    "            \n",
    "    out.write(result_img)\n",
    "    cv2.imshow('result', result_img)\n",
    "    if cv2.waitKey(1) & 0xFF == ord('q'):\n",
    "        break\n",
    "    \n",
    "out.release()\n",
    "video.release()    \n",
    "cv2.destroyAllWindows()"
   ]
  }
 ],
 "metadata": {
  "interpreter": {
   "hash": "aee8b7b246df8f9039afb4144a1f6fd8d2ca17a180786b69acc140d282b71a49"
  },
  "kernelspec": {
   "display_name": "Python 3.10.0 64-bit",
   "language": "python",
   "name": "python3"
  },
  "language_info": {
   "codemirror_mode": {
    "name": "ipython",
    "version": 3
   },
   "file_extension": ".py",
   "mimetype": "text/x-python",
   "name": "python",
   "nbconvert_exporter": "python",
   "pygments_lexer": "ipython3",
   "version": "3.10.0"
  },
  "orig_nbformat": 4
 },
 "nbformat": 4,
 "nbformat_minor": 2
}
